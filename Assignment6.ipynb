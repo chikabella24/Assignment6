{
 "cells": [
  {
   "cell_type": "code",
   "execution_count": 1,
   "metadata": {},
   "outputs": [],
   "source": [
    "# Creating a Dictionary of Data\n",
    "import pandas as pd\n",
    "data_Lists = {\"Name\":[\"Avery\", \"Amanda\",\"Collins\",\"Sandra\",\"Mark\", \"Kingsley\",\"Whitney\",\"Isabella\",\"Cyril\",\"Ben\"],\n",
    "             \"Countries\":[\"England\", \"Spain\",\"Brasil\",\"Portugal\",\"Greece\",\"Sweden\",\"France\",\"Italy\",\"Russia\",\"Japan\"], \n",
    "              \"Age\":[34,56,76,45,36,48,42,29,31,50],\n",
    "               \"Scores\":[45.87, 56.89,105.67,87.34,35.20,59.12,95.13,50.02, 64.32,70.67]}"
   ]
  },
  {
   "cell_type": "code",
   "execution_count": 2,
   "metadata": {},
   "outputs": [
    {
     "name": "stdout",
     "output_type": "stream",
     "text": [
      "       Name Countries  Age  Scores\n",
      "0     Avery   England   34   45.87\n",
      "1    Amanda     Spain   56   56.89\n",
      "2   Collins    Brasil   76  105.67\n",
      "3    Sandra  Portugal   45   87.34\n",
      "4      Mark    Greece   36   35.20\n",
      "5  Kingsley    Sweden   48   59.12\n",
      "6   Whitney    France   42   95.13\n",
      "7  Isabella     Italy   29   50.02\n",
      "8     Cyril    Russia   31   64.32\n",
      "9       Ben     Japan   50   70.67\n"
     ]
    }
   ],
   "source": [
    "#Creating a DataFrame from the Dictionary\n",
    "Originallists = pd.DataFrame(data_Lists)\n",
    "print(Originallists)"
   ]
  },
  {
   "cell_type": "code",
   "execution_count": 3,
   "metadata": {},
   "outputs": [
    {
     "data": {
      "text/plain": [
       "0     England\n",
       "1       Spain\n",
       "2      Brasil\n",
       "3    Portugal\n",
       "4      Greece\n",
       "5      Sweden\n",
       "6      France\n",
       "7       Italy\n",
       "8      Russia\n",
       "9       Japan\n",
       "Name: Countries, dtype: object"
      ]
     },
     "execution_count": 3,
     "metadata": {},
     "output_type": "execute_result"
    }
   ],
   "source": [
    "Originallists.Countries"
   ]
  },
  {
   "cell_type": "code",
   "execution_count": 4,
   "metadata": {},
   "outputs": [
    {
     "data": {
      "text/plain": [
       "0     45.87\n",
       "1     56.89\n",
       "2    105.67\n",
       "3     87.34\n",
       "4     35.20\n",
       "5     59.12\n",
       "6     95.13\n",
       "7     50.02\n",
       "8     64.32\n",
       "9     70.67\n",
       "Name: Scores, dtype: float64"
      ]
     },
     "execution_count": 4,
     "metadata": {},
     "output_type": "execute_result"
    }
   ],
   "source": [
    "Originallists.Scores"
   ]
  },
  {
   "cell_type": "code",
   "execution_count": 5,
   "metadata": {},
   "outputs": [
    {
     "data": {
      "text/plain": [
       "0       Avery\n",
       "1      Amanda\n",
       "2     Collins\n",
       "3      Sandra\n",
       "4        Mark\n",
       "5    Kingsley\n",
       "6     Whitney\n",
       "7    Isabella\n",
       "8       Cyril\n",
       "9         Ben\n",
       "Name: Name, dtype: object"
      ]
     },
     "execution_count": 5,
     "metadata": {},
     "output_type": "execute_result"
    }
   ],
   "source": [
    "Originallists.Name"
   ]
  },
  {
   "cell_type": "code",
   "execution_count": 6,
   "metadata": {},
   "outputs": [
    {
     "name": "stdout",
     "output_type": "stream",
     "text": [
      "      Name Countries  Age  Scores\n",
      "0    Avery   England   34   45.87\n",
      "1   Amanda     Spain   56   56.89\n",
      "2  Collins    Brasil   76  105.67\n",
      "3   Sandra  Portugal   45   87.34\n",
      "4     Mark    Greece   36   35.20\n"
     ]
    }
   ],
   "source": [
    "# get the first five rows\n",
    "\n",
    "Originallists = pd.DataFrame(data_Lists)\n",
    "Originallists1 = Originallists.head(5)\n",
    "print(Originallists1)"
   ]
  },
  {
   "cell_type": "code",
   "execution_count": 7,
   "metadata": {},
   "outputs": [
    {
     "data": {
      "text/plain": [
       "Index(['Name', 'Countries', 'Age', 'Scores'], dtype='object')"
      ]
     },
     "execution_count": 7,
     "metadata": {},
     "output_type": "execute_result"
    }
   ],
   "source": [
    "Originallists.columns "
   ]
  },
  {
   "cell_type": "code",
   "execution_count": 8,
   "metadata": {},
   "outputs": [
    {
     "data": {
      "text/html": [
       "<div>\n",
       "<style scoped>\n",
       "    .dataframe tbody tr th:only-of-type {\n",
       "        vertical-align: middle;\n",
       "    }\n",
       "\n",
       "    .dataframe tbody tr th {\n",
       "        vertical-align: top;\n",
       "    }\n",
       "\n",
       "    .dataframe thead th {\n",
       "        text-align: right;\n",
       "    }\n",
       "</style>\n",
       "<table border=\"1\" class=\"dataframe\">\n",
       "  <thead>\n",
       "    <tr style=\"text-align: right;\">\n",
       "      <th></th>\n",
       "      <th>First Name</th>\n",
       "      <th>Countries</th>\n",
       "      <th>Age</th>\n",
       "      <th>Scores</th>\n",
       "    </tr>\n",
       "  </thead>\n",
       "  <tbody>\n",
       "    <tr>\n",
       "      <th>0</th>\n",
       "      <td>Avery</td>\n",
       "      <td>England</td>\n",
       "      <td>34</td>\n",
       "      <td>45.87</td>\n",
       "    </tr>\n",
       "    <tr>\n",
       "      <th>1</th>\n",
       "      <td>Amanda</td>\n",
       "      <td>Spain</td>\n",
       "      <td>56</td>\n",
       "      <td>56.89</td>\n",
       "    </tr>\n",
       "    <tr>\n",
       "      <th>2</th>\n",
       "      <td>Collins</td>\n",
       "      <td>Brasil</td>\n",
       "      <td>76</td>\n",
       "      <td>105.67</td>\n",
       "    </tr>\n",
       "    <tr>\n",
       "      <th>3</th>\n",
       "      <td>Sandra</td>\n",
       "      <td>Portugal</td>\n",
       "      <td>45</td>\n",
       "      <td>87.34</td>\n",
       "    </tr>\n",
       "    <tr>\n",
       "      <th>4</th>\n",
       "      <td>Mark</td>\n",
       "      <td>Greece</td>\n",
       "      <td>36</td>\n",
       "      <td>35.20</td>\n",
       "    </tr>\n",
       "  </tbody>\n",
       "</table>\n",
       "</div>"
      ],
      "text/plain": [
       "  First Name Countries  Age  Scores\n",
       "0      Avery   England   34   45.87\n",
       "1     Amanda     Spain   56   56.89\n",
       "2    Collins    Brasil   76  105.67\n",
       "3     Sandra  Portugal   45   87.34\n",
       "4       Mark    Greece   36   35.20"
      ]
     },
     "execution_count": 8,
     "metadata": {},
     "output_type": "execute_result"
    }
   ],
   "source": [
    " \n",
    "# rename of columns using the lists method of naming all the columns\n",
    "Originallists.columns = [\"First Name\",\"Countries\",\"Age\",\"Scores\"]\n",
    "Originallists.head(5)"
   ]
  },
  {
   "cell_type": "code",
   "execution_count": 9,
   "metadata": {},
   "outputs": [
    {
     "data": {
      "text/html": [
       "<div>\n",
       "<style scoped>\n",
       "    .dataframe tbody tr th:only-of-type {\n",
       "        vertical-align: middle;\n",
       "    }\n",
       "\n",
       "    .dataframe tbody tr th {\n",
       "        vertical-align: top;\n",
       "    }\n",
       "\n",
       "    .dataframe thead th {\n",
       "        text-align: right;\n",
       "    }\n",
       "</style>\n",
       "<table border=\"1\" class=\"dataframe\">\n",
       "  <thead>\n",
       "    <tr style=\"text-align: right;\">\n",
       "      <th></th>\n",
       "      <th>First Name</th>\n",
       "      <th>Locations</th>\n",
       "      <th>Age</th>\n",
       "      <th>Scores</th>\n",
       "    </tr>\n",
       "  </thead>\n",
       "  <tbody>\n",
       "    <tr>\n",
       "      <th>0</th>\n",
       "      <td>Avery</td>\n",
       "      <td>England</td>\n",
       "      <td>34</td>\n",
       "      <td>45.87</td>\n",
       "    </tr>\n",
       "    <tr>\n",
       "      <th>1</th>\n",
       "      <td>Amanda</td>\n",
       "      <td>Spain</td>\n",
       "      <td>56</td>\n",
       "      <td>56.89</td>\n",
       "    </tr>\n",
       "    <tr>\n",
       "      <th>2</th>\n",
       "      <td>Collins</td>\n",
       "      <td>Brasil</td>\n",
       "      <td>76</td>\n",
       "      <td>105.67</td>\n",
       "    </tr>\n",
       "    <tr>\n",
       "      <th>3</th>\n",
       "      <td>Sandra</td>\n",
       "      <td>Portugal</td>\n",
       "      <td>45</td>\n",
       "      <td>87.34</td>\n",
       "    </tr>\n",
       "    <tr>\n",
       "      <th>4</th>\n",
       "      <td>Mark</td>\n",
       "      <td>Greece</td>\n",
       "      <td>36</td>\n",
       "      <td>35.20</td>\n",
       "    </tr>\n",
       "  </tbody>\n",
       "</table>\n",
       "</div>"
      ],
      "text/plain": [
       "  First Name Locations  Age  Scores\n",
       "0      Avery   England   34   45.87\n",
       "1     Amanda     Spain   56   56.89\n",
       "2    Collins    Brasil   76  105.67\n",
       "3     Sandra  Portugal   45   87.34\n",
       "4       Mark    Greece   36   35.20"
      ]
     },
     "execution_count": 9,
     "metadata": {},
     "output_type": "execute_result"
    }
   ],
   "source": [
    "# rename columns using the second method  rename()function\n",
    "data_Lists =  Originallists.rename(columns = ({\"Countries\":\"Locations\"}),inplace = True, )\n",
    "Originallists.head(5)"
   ]
  },
  {
   "cell_type": "code",
   "execution_count": 10,
   "metadata": {},
   "outputs": [
    {
     "name": "stdout",
     "output_type": "stream",
     "text": [
      "  First Name Locations   Age  Scores\n",
      "0      Avery   England  34.0   45.87\n",
      "1     Amanda     Spain  56.0   56.89\n",
      "2    Collins    Brasil  76.0  105.67\n",
      "3     Sandra  Portugal  45.0   87.34\n",
      "4       Mark    Greece  36.0   35.20\n",
      "5   Kingsley    Sweden  48.0   59.12\n",
      "6    Whitney    France  42.0   95.13\n",
      "7   Isabella     Italy  29.0   50.02\n",
      "8      Cyril    Russia  31.0   64.32\n",
      "9        Ben     Japan  50.0   70.67\n"
     ]
    }
   ],
   "source": [
    "# using pandas.DataFrame.astype() to change the data type of a specfic column\n",
    "\n",
    "Originallists = Originallists.astype({\"Age\":float}) # integers to floats\n",
    "print(Originallists)"
   ]
  },
  {
   "cell_type": "code",
   "execution_count": 11,
   "metadata": {},
   "outputs": [
    {
     "data": {
      "text/plain": [
       "'Brasil'"
      ]
     },
     "execution_count": 11,
     "metadata": {},
     "output_type": "execute_result"
    }
   ],
   "source": [
    "Originallists.loc[2,\"Locations\"]"
   ]
  },
  {
   "cell_type": "code",
   "execution_count": 12,
   "metadata": {},
   "outputs": [
    {
     "data": {
      "text/plain": [
       "'Brasil'"
      ]
     },
     "execution_count": 12,
     "metadata": {},
     "output_type": "execute_result"
    }
   ],
   "source": [
    "Originallists.iloc[2,1]"
   ]
  },
  {
   "cell_type": "code",
   "execution_count": 13,
   "metadata": {},
   "outputs": [
    {
     "name": "stdout",
     "output_type": "stream",
     "text": [
      "      First Name Locations   Age  Scores\n",
      "One        Avery   England  34.0   45.87\n",
      "Two       Amanda     Spain  56.0   56.89\n",
      "Three    Collins    Brasil  76.0  105.67\n",
      "Four      Sandra  Portugal  45.0   87.34\n",
      "Five        Mark    Greece  36.0   35.20\n",
      "Six     Kingsley    Sweden  48.0   59.12\n",
      "Seven    Whitney    France  42.0   95.13\n",
      "Eight   Isabella     Italy  29.0   50.02\n",
      "Nine       Cyril    Russia  31.0   64.32\n",
      "Ten          Ben     Japan  50.0   70.67\n"
     ]
    }
   ],
   "source": [
    "# renaming the index rows\n",
    "Originallists.index = (\"One\",\"Two\",\"Three\",\"Four\",\"Five\",\"Six\",\"Seven\",\"Eight\",\"Nine\",\"Ten\")\n",
    "print(Originallists)"
   ]
  },
  {
   "cell_type": "code",
   "execution_count": 14,
   "metadata": {},
   "outputs": [
    {
     "name": "stdout",
     "output_type": "stream",
     "text": [
      "           Locations   Age  Scores\n",
      "First Name                        \n",
      "Avery        England  34.0   45.87\n",
      "Amanda         Spain  56.0   56.89\n",
      "Collins       Brasil  76.0  105.67\n",
      "Sandra      Portugal  45.0   87.34\n",
      "Mark          Greece  36.0   35.20\n",
      "Kingsley      Sweden  48.0   59.12\n",
      "Whitney       France  42.0   95.13\n",
      "Isabella       Italy  29.0   50.02\n",
      "Cyril         Russia  31.0   64.32\n",
      "Ben            Japan  50.0   70.67\n"
     ]
    }
   ],
   "source": [
    "Originallists.set_index(\"First Name\",inplace = True)\n",
    "print(Originallists)"
   ]
  },
  {
   "cell_type": "code",
   "execution_count": 15,
   "metadata": {},
   "outputs": [
    {
     "data": {
      "text/html": [
       "<div>\n",
       "<style scoped>\n",
       "    .dataframe tbody tr th:only-of-type {\n",
       "        vertical-align: middle;\n",
       "    }\n",
       "\n",
       "    .dataframe tbody tr th {\n",
       "        vertical-align: top;\n",
       "    }\n",
       "\n",
       "    .dataframe thead th {\n",
       "        text-align: right;\n",
       "    }\n",
       "</style>\n",
       "<table border=\"1\" class=\"dataframe\">\n",
       "  <thead>\n",
       "    <tr style=\"text-align: right;\">\n",
       "      <th></th>\n",
       "      <th>First Name</th>\n",
       "      <th>Locations</th>\n",
       "      <th>Age</th>\n",
       "      <th>Scores</th>\n",
       "    </tr>\n",
       "  </thead>\n",
       "  <tbody>\n",
       "    <tr>\n",
       "      <th>0</th>\n",
       "      <td>Avery</td>\n",
       "      <td>England</td>\n",
       "      <td>34.0</td>\n",
       "      <td>45.87</td>\n",
       "    </tr>\n",
       "    <tr>\n",
       "      <th>1</th>\n",
       "      <td>Amanda</td>\n",
       "      <td>Spain</td>\n",
       "      <td>56.0</td>\n",
       "      <td>56.89</td>\n",
       "    </tr>\n",
       "    <tr>\n",
       "      <th>2</th>\n",
       "      <td>Collins</td>\n",
       "      <td>Brasil</td>\n",
       "      <td>76.0</td>\n",
       "      <td>105.67</td>\n",
       "    </tr>\n",
       "    <tr>\n",
       "      <th>3</th>\n",
       "      <td>Sandra</td>\n",
       "      <td>Portugal</td>\n",
       "      <td>45.0</td>\n",
       "      <td>87.34</td>\n",
       "    </tr>\n",
       "    <tr>\n",
       "      <th>4</th>\n",
       "      <td>Mark</td>\n",
       "      <td>Greece</td>\n",
       "      <td>36.0</td>\n",
       "      <td>35.20</td>\n",
       "    </tr>\n",
       "    <tr>\n",
       "      <th>5</th>\n",
       "      <td>Kingsley</td>\n",
       "      <td>Sweden</td>\n",
       "      <td>48.0</td>\n",
       "      <td>59.12</td>\n",
       "    </tr>\n",
       "    <tr>\n",
       "      <th>6</th>\n",
       "      <td>Whitney</td>\n",
       "      <td>France</td>\n",
       "      <td>42.0</td>\n",
       "      <td>95.13</td>\n",
       "    </tr>\n",
       "    <tr>\n",
       "      <th>7</th>\n",
       "      <td>Isabella</td>\n",
       "      <td>Italy</td>\n",
       "      <td>29.0</td>\n",
       "      <td>50.02</td>\n",
       "    </tr>\n",
       "    <tr>\n",
       "      <th>8</th>\n",
       "      <td>Cyril</td>\n",
       "      <td>Russia</td>\n",
       "      <td>31.0</td>\n",
       "      <td>64.32</td>\n",
       "    </tr>\n",
       "    <tr>\n",
       "      <th>9</th>\n",
       "      <td>Ben</td>\n",
       "      <td>Japan</td>\n",
       "      <td>50.0</td>\n",
       "      <td>70.67</td>\n",
       "    </tr>\n",
       "  </tbody>\n",
       "</table>\n",
       "</div>"
      ],
      "text/plain": [
       "  First Name Locations   Age  Scores\n",
       "0      Avery   England  34.0   45.87\n",
       "1     Amanda     Spain  56.0   56.89\n",
       "2    Collins    Brasil  76.0  105.67\n",
       "3     Sandra  Portugal  45.0   87.34\n",
       "4       Mark    Greece  36.0   35.20\n",
       "5   Kingsley    Sweden  48.0   59.12\n",
       "6    Whitney    France  42.0   95.13\n",
       "7   Isabella     Italy  29.0   50.02\n",
       "8      Cyril    Russia  31.0   64.32\n",
       "9        Ben     Japan  50.0   70.67"
      ]
     },
     "execution_count": 15,
     "metadata": {},
     "output_type": "execute_result"
    }
   ],
   "source": [
    "# Reset the index\n",
    "Originallists.reset_index()"
   ]
  },
  {
   "cell_type": "code",
   "execution_count": null,
   "metadata": {},
   "outputs": [],
   "source": []
  },
  {
   "cell_type": "code",
   "execution_count": 16,
   "metadata": {},
   "outputs": [],
   "source": [
    "# creating a 2D array\n",
    "import numpy as np\n",
    "array = np.array([[11, 12, 2], [ 8,15,10], [12,15,6],[4,16,9]])\n"
   ]
  },
  {
   "cell_type": "code",
   "execution_count": 17,
   "metadata": {},
   "outputs": [
    {
     "name": "stdout",
     "output_type": "stream",
     "text": [
      "[[11 12  2]\n",
      " [ 8 15 10]\n",
      " [12 15  6]\n",
      " [ 4 16  9]]\n"
     ]
    }
   ],
   "source": [
    "print(array)"
   ]
  },
  {
   "cell_type": "code",
   "execution_count": 18,
   "metadata": {},
   "outputs": [
    {
     "data": {
      "text/plain": [
       "(4, 3)"
      ]
     },
     "execution_count": 18,
     "metadata": {},
     "output_type": "execute_result"
    }
   ],
   "source": [
    "array.shape"
   ]
  },
  {
   "cell_type": "code",
   "execution_count": 19,
   "metadata": {},
   "outputs": [
    {
     "name": "stdout",
     "output_type": "stream",
     "text": [
      "[[11  8 12  4]\n",
      " [12 15 15 16]\n",
      " [ 2 10  6  9]]\n"
     ]
    }
   ],
   "source": [
    "#Transpose array\n",
    "array = np.array([[11, 12, 2], [ 8,15,10], [12,15,6],[4,16,9]])\n",
    "array1 = array.transpose()\n",
    "print(array1)"
   ]
  },
  {
   "cell_type": "code",
   "execution_count": 21,
   "metadata": {},
   "outputs": [
    {
     "data": {
      "text/plain": [
       "(3, 4)"
      ]
     },
     "execution_count": 21,
     "metadata": {},
     "output_type": "execute_result"
    }
   ],
   "source": [
    "#print shape\n",
    "array1.shape"
   ]
  },
  {
   "cell_type": "code",
   "execution_count": 22,
   "metadata": {},
   "outputs": [
    {
     "name": "stdout",
     "output_type": "stream",
     "text": [
      "Random set of rows from 2D array array:\n",
      "[[4 0 4 0]\n",
      " [0 4 4 3]\n",
      " [2 2 3 2]]\n"
     ]
    }
   ],
   "source": [
    "#create a random array as array2 with the column having the same column  size as  the row size in the first 2D array\n",
    "import numpy as np\n",
    "array2 = np.random.randint(5, size = (3,4))\n",
    "print(\"Random set of rows from 2D array array:\")\n",
    "print(array2)\n"
   ]
  },
  {
   "cell_type": "code",
   "execution_count": 23,
   "metadata": {},
   "outputs": [
    {
     "name": "stdout",
     "output_type": "stream",
     "text": [
      "[[44  0 48  0]\n",
      " [ 0 60 60 48]\n",
      " [ 4 20 18 18]]\n"
     ]
    }
   ],
   "source": [
    "#multipy the transpose array by the new random array created using the * operator\n",
    "array3 = array1*array2 \n",
    "print(array3)"
   ]
  },
  {
   "cell_type": "code",
   "execution_count": 24,
   "metadata": {},
   "outputs": [
    {
     "name": "stdout",
     "output_type": "stream",
     "text": [
      "[[44  0 48  0]\n",
      " [ 0 60 60 48]\n",
      " [ 4 20 18 18]]\n"
     ]
    }
   ],
   "source": [
    "#multipy the transpose array by the new random array created using the multiply()function\n",
    "array3 = np.multiply(array1,array2)\n",
    "print(array3)"
   ]
  },
  {
   "cell_type": "code",
   "execution_count": null,
   "metadata": {},
   "outputs": [],
   "source": []
  }
 ],
 "metadata": {
  "kernelspec": {
   "display_name": "Python 3",
   "language": "python",
   "name": "python3"
  },
  "language_info": {
   "codemirror_mode": {
    "name": "ipython",
    "version": 3
   },
   "file_extension": ".py",
   "mimetype": "text/x-python",
   "name": "python",
   "nbconvert_exporter": "python",
   "pygments_lexer": "ipython3",
   "version": "3.8.5"
  }
 },
 "nbformat": 4,
 "nbformat_minor": 4
}
